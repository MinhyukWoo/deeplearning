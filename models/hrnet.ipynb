{
 "cells": [
  {
   "cell_type": "code",
   "execution_count": 2,
   "metadata": {},
   "outputs": [],
   "source": [
    "import torch\n",
    "from torch import nn\n"
   ]
  },
  {
   "cell_type": "code",
   "execution_count": 3,
   "metadata": {},
   "outputs": [
    {
     "data": {
      "text/plain": [
       "BasicConvBlock(\n",
       "  (conv): Conv2d(256, 64, kernel_size=(1, 1), stride=(1, 1), padding=(1, 1), bias=False)\n",
       "  (batchNorm): BatchNorm2d(64, eps=1e-05, momentum=0.1, affine=True, track_running_stats=True)\n",
       "  (relu): ReLU(inplace=True)\n",
       ")"
      ]
     },
     "execution_count": 3,
     "metadata": {},
     "output_type": "execute_result"
    }
   ],
   "source": [
    "class BasicConvBlock(nn.Module):\n",
    "    def __init__(\n",
    "        self, in_channels, out_channels, kernel_size, stride=1, padding=0, hasRelu=True\n",
    "    ) -> None:\n",
    "        super(BasicConvBlock, self).__init__()\n",
    "        self.conv = nn.Conv2d(\n",
    "            in_channels, out_channels, kernel_size, stride, padding, bias=False\n",
    "        )\n",
    "        self.batchNorm = nn.BatchNorm2d(out_channels)\n",
    "        self.hasRelu = hasRelu\n",
    "        if hasRelu:\n",
    "            self.relu = nn.ReLU(inplace=True)\n",
    "\n",
    "    def forward(self, x):\n",
    "        x = self.conv(x)\n",
    "        x = self.batchNorm(x)\n",
    "        if self.hasRelu:\n",
    "            x = self.relu(x)\n",
    "        return x\n",
    "\n",
    "\n",
    "BasicConvBlock(256, 64, 1, 1, 1)"
   ]
  },
  {
   "cell_type": "code",
   "execution_count": 4,
   "metadata": {},
   "outputs": [
    {
     "name": "stdout",
     "output_type": "stream",
     "text": [
      "BottleneckBlock(\n",
      "  (layers): Sequential(\n",
      "    (0): BasicConvBlock(\n",
      "      (conv): Conv2d(256, 64, kernel_size=(1, 1), stride=(1, 1), bias=False)\n",
      "      (batchNorm): BatchNorm2d(64, eps=1e-05, momentum=0.1, affine=True, track_running_stats=True)\n",
      "      (relu): ReLU(inplace=True)\n",
      "    )\n",
      "    (1): BasicConvBlock(\n",
      "      (conv): Conv2d(64, 64, kernel_size=(3, 3), stride=(1, 1), padding=(1, 1), bias=False)\n",
      "      (batchNorm): BatchNorm2d(64, eps=1e-05, momentum=0.1, affine=True, track_running_stats=True)\n",
      "      (relu): ReLU(inplace=True)\n",
      "    )\n",
      "    (2): BasicConvBlock(\n",
      "      (conv): Conv2d(64, 256, kernel_size=(1, 1), stride=(1, 1), bias=False)\n",
      "      (batchNorm): BatchNorm2d(256, eps=1e-05, momentum=0.1, affine=True, track_running_stats=True)\n",
      "      (relu): ReLU(inplace=True)\n",
      "    )\n",
      "  )\n",
      "  (relu): ReLU(inplace=True)\n",
      ")\n",
      "torch.Size([3, 256, 32, 32])\n"
     ]
    }
   ],
   "source": [
    "class BottleneckBlock(nn.Module):\n",
    "    def __init__(self, in_channels, factor=4) -> None:\n",
    "        super(BottleneckBlock, self).__init__()\n",
    "        hidden_channels = in_channels // factor\n",
    "        self.layers = nn.Sequential(\n",
    "            BasicConvBlock(in_channels, hidden_channels, kernel_size=1),\n",
    "            BasicConvBlock(hidden_channels, hidden_channels, kernel_size=3, padding=1),\n",
    "            BasicConvBlock(hidden_channels, in_channels, kernel_size=1),\n",
    "        )\n",
    "        self.relu = nn.ReLU(inplace=True)\n",
    "\n",
    "    def forward(self, x):\n",
    "        x0 = x\n",
    "        x1 = self.layers(x)\n",
    "        x = x0 + x1\n",
    "        return self.relu(x)\n",
    "\n",
    "\n",
    "print(BottleneckBlock(256))\n",
    "print(BottleneckBlock(256)(torch.zeros((3, 256, 32, 32))).shape)"
   ]
  },
  {
   "cell_type": "code",
   "execution_count": 7,
   "metadata": {},
   "outputs": [
    {
     "name": "stdout",
     "output_type": "stream",
     "text": [
      "ResidualBlock(\n",
      "  (layers): Sequential(\n",
      "    (0): BasicConvBlock(\n",
      "      (conv): Conv2d(64, 64, kernel_size=(3, 3), stride=(1, 1), padding=(1, 1), bias=False)\n",
      "      (batchNorm): BatchNorm2d(64, eps=1e-05, momentum=0.1, affine=True, track_running_stats=True)\n",
      "      (relu): ReLU(inplace=True)\n",
      "    )\n",
      "    (1): BasicConvBlock(\n",
      "      (conv): Conv2d(64, 64, kernel_size=(3, 3), stride=(1, 1), padding=(1, 1), bias=False)\n",
      "      (batchNorm): BatchNorm2d(64, eps=1e-05, momentum=0.1, affine=True, track_running_stats=True)\n",
      "    )\n",
      "  )\n",
      "  (relu): ReLU(inplace=True)\n",
      ")\n",
      "torch.Size([5, 64, 32, 32])\n"
     ]
    }
   ],
   "source": [
    "class ResidualBlock(nn.Module):\n",
    "    def __init__(self, in_channels, out_channels) -> None:\n",
    "        super(ResidualBlock, self).__init__()\n",
    "        self.layers = nn.Sequential(\n",
    "            BasicConvBlock(in_channels, out_channels, kernel_size=3, padding=1),\n",
    "            BasicConvBlock(\n",
    "                out_channels, out_channels, kernel_size=3, padding=1, hasRelu=False\n",
    "            ),\n",
    "        )\n",
    "        self.relu = nn.ReLU(inplace=True)\n",
    "\n",
    "    def forward(self, x):\n",
    "        x0 = x\n",
    "        x1 = self.layers(x)\n",
    "        x = x0 + x1\n",
    "        x = self.relu(x)\n",
    "        return x\n",
    "\n",
    "\n",
    "print(ResidualBlock(64, 64))\n",
    "print(ResidualBlock(64, 64)(torch.zeros((5, 64, 32, 32))).shape)"
   ]
  },
  {
   "cell_type": "code",
   "execution_count": null,
   "metadata": {},
   "outputs": [],
   "source": [
    "class HrStem(nn.Module):\n",
    "    def __init__(self) -> None:\n",
    "        super(HrStem, self).__init__()\n",
    "        self.layers = nn.Sequential(\n",
    "            BasicConvBlock(3, 64, kernel_size=3, stride=2, padding=1),\n",
    "            BasicConvBlock(64, 64, kernel_size=3, stride=2, padding=1),\n",
    "        )\n"
   ]
  },
  {
   "cell_type": "code",
   "execution_count": null,
   "metadata": {},
   "outputs": [],
   "source": [
    "\n",
    "class HrStage1(nn.Module):\n",
    "    def __init__(self) -> None:\n",
    "        super(HrStage1, self).__init__()\n",
    "        self.bottlenecks = nn.Sequential(*[BottleneckBlock(64) for _ in range(4)])\n",
    "        self.downsampling\n"
   ]
  },
  {
   "cell_type": "code",
   "execution_count": null,
   "metadata": {},
   "outputs": [],
   "source": [
    "class HRNet(nn.Module):\n",
    "    def __init__(self) -> None:\n",
    "        super(HRNet, self).__init__()\n",
    "        self.stem = HrStem()\n",
    "\n",
    "    def forward(self, x):\n",
    "        return x"
   ]
  }
 ],
 "metadata": {
  "kernelspec": {
   "display_name": "torch",
   "language": "python",
   "name": "python3"
  },
  "language_info": {
   "codemirror_mode": {
    "name": "ipython",
    "version": 3
   },
   "file_extension": ".py",
   "mimetype": "text/x-python",
   "name": "python",
   "nbconvert_exporter": "python",
   "pygments_lexer": "ipython3",
   "version": "3.10.10"
  },
  "orig_nbformat": 4
 },
 "nbformat": 4,
 "nbformat_minor": 2
}
