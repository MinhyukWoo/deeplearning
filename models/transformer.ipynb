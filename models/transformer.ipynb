{
 "cells": [
  {
   "cell_type": "code",
   "execution_count": 1,
   "metadata": {},
   "outputs": [],
   "source": [
    "import torch\n",
    "from torch import nn\n",
    "from einops import rearrange, reduce, repeat\n"
   ]
  },
  {
   "cell_type": "code",
   "execution_count": 2,
   "metadata": {},
   "outputs": [],
   "source": [
    "device = torch.device(\"cuda:0\" if torch.cuda.is_available() else \"cpu\")"
   ]
  },
  {
   "cell_type": "code",
   "execution_count": 3,
   "metadata": {},
   "outputs": [],
   "source": [
    "N = 2\n",
    "HIDDEN_DIM = 256\n",
    "NUM_HEAD = 8 \n",
    "INNER_DIM = 512\n",
    "\n",
    "PAD_IDX = 0\n",
    "EOS_IDX = 3\n",
    "\n",
    "BATCH_SIZE = 64\n",
    "\n",
    "VOCAB_SIZE = 10000\n",
    "SEQ_LEN = 60"
   ]
  },
  {
   "cell_type": "code",
   "execution_count": 4,
   "metadata": {},
   "outputs": [],
   "source": [
    "class Multiheadattention(nn.Module):\n",
    "    def __init__(self, hidden_dim: int, num_head: int):\n",
    "        super().__init__()\n",
    " \n",
    "        # embedding_dim, d_model, 512 in paper\n",
    "        self.hidden_dim = hidden_dim\n",
    "        # 8 in paper\n",
    "        self.num_head = num_head\n",
    "        # head_dim, d_key, d_query, d_value, 64 in paper (= 512 / 8)\n",
    "        self.head_dim = hidden_dim // num_head\n",
    "        self.scale = torch.sqrt(torch.FloatTensor([hidden_dim])).to(device)\n",
    "\n",
    "        self.fcQ = nn.Linear(hidden_dim, hidden_dim)\n",
    "        self.fcK = nn.Linear(hidden_dim, hidden_dim)\n",
    "        self.fcV = nn.Linear(hidden_dim, hidden_dim)\n",
    "        self.fcOut = nn.Linear(hidden_dim, hidden_dim)\n",
    "\n",
    "\n",
    "    def forward(self, srcQ, srcK, srcV, mask=None):\n",
    "\n",
    "        ##### SCALED DOT PRODUCT ATTENTION ######\n",
    "        Q = self.fcQ(srcQ)\n",
    "        K = self.fcK(srcK)\n",
    "        V = self.fcV(srcV)\n",
    "        \n",
    "        Q = rearrange(\n",
    "            Q, 'bs seq_len (num_head head_dim) -> bs num_head seq_len head_dim', num_head=self.num_head)\n",
    "        K_T = rearrange(\n",
    "            K, 'bs seq_len (num_head head_dim) -> bs num_head head_dim seq_len', num_head=self.num_head)\n",
    "        V = rearrange(\n",
    "            V, 'bs seq_len (num_head head_dim) -> bs num_head seq_len head_dim', num_head=self.num_head)\n",
    "\n",
    "        attention_energy = torch.matmul(Q, K_T)/self.scale\n",
    "\n",
    "        if mask is not None :\n",
    " \n",
    "            attention_energy = torch.masked_fill(attention_energy, (mask == 0), -1e+4)\n",
    "            \n",
    "        attention_energy = torch.softmax(attention_energy, dim = -1)\n",
    "\n",
    "        result = torch.matmul(attention_energy,V)\n",
    "\n",
    "        result = rearrange(result, 'bs num_head seq_len head_dim -> bs seq_len (num_head head_dim)')\n",
    "\n",
    "        result = self.fcOut(result)\n",
    "\n",
    "        return result\n",
    "\n",
    "\n",
    "\n",
    "\n"
   ]
  },
  {
   "cell_type": "code",
   "execution_count": 5,
   "metadata": {},
   "outputs": [],
   "source": [
    "class FFN(nn.Module):\n",
    "    def __init__ (self, hidden_dim, inner_dim):\n",
    "        super().__init__()\n",
    " \n",
    "        self.hidden_dim = hidden_dim\n",
    "        self.inner_dim = inner_dim \n",
    "\n",
    "        self.fc1 = nn.Linear(hidden_dim, inner_dim)\n",
    "        self.fc2 = nn.Linear(inner_dim, hidden_dim)\n",
    "        self.relu = nn.ReLU(inplace=False)\n",
    "        self.dropout = nn.Dropout(0.1)\n",
    "\n",
    "    def forward(self, input):\n",
    "        output = input\n",
    "        output = self.fc1(output)\n",
    "        output = self.relu(output)\n",
    "        output = self.dropout(output)\n",
    "        output = self.fc2(output)\n",
    "\n",
    "        return output\n",
    "\n"
   ]
  },
  {
   "cell_type": "code",
   "execution_count": 6,
   "metadata": {},
   "outputs": [],
   "source": [
    "class EncoderLayer(nn.Module):\n",
    "    def __init__(self, hidden_dim, num_head, inner_dim):\n",
    "        super().__init__()\n",
    "\n",
    "        self.hidden_dim = hidden_dim\n",
    "        self.num_head = num_head\n",
    "        self.inner_dim = inner_dim\n",
    "        \n",
    "        self.multiheadattention = Multiheadattention(hidden_dim, num_head)\n",
    "        self.dropout1 = nn.Dropout(p=0.1)\n",
    "        self.layerNorm1 = nn.LayerNorm(hidden_dim)\n",
    "        self.ffn = FFN(hidden_dim, inner_dim)\n",
    "        self.dropout2 = nn.Dropout(p=0.1)\n",
    "        self.layerNorm2 = nn.LayerNorm(hidden_dim)\n",
    "   \n",
    "\n",
    "    def forward(self, input, mask = None):\n",
    "\n",
    "        output = self.multiheadattention(srcQ= input, srcK = input, srcV = input, mask = mask)\n",
    "        output = self.dropout1(output)\n",
    "        output = input + output\n",
    "        output = self.layerNorm1(output)\n",
    "\n",
    "        output_ = self.ffn(output)\n",
    "        output_ = self.dropout2(output_)\n",
    "        output = output + output_\n",
    "        output = self.layerNorm2(output)\n",
    "\n",
    "        return output"
   ]
  },
  {
   "cell_type": "code",
   "execution_count": 7,
   "metadata": {},
   "outputs": [],
   "source": [
    "def makeMask(tensor, option: str):\n",
    "  \n",
    "    if option == 'padding':\n",
    "        tmp = torch.full_like(tensor, fill_value=PAD_IDX).to(device)\n",
    "        mask = (tensor != tmp).float()\n",
    "        mask = rearrange(mask, 'bs seq_len -> bs 1 1 seq_len ')\n",
    "\n",
    "\n",
    "    elif option == 'lookahead':\n",
    "        padding_mask = makeMask(tensor, 'padding')\n",
    "        padding_mask = repeat(\n",
    "            padding_mask, 'bs 1 1 k_len -> bs 1 new k_len', new=padding_mask.shape[3])\n",
    "        \n",
    "        mask = torch.ones_like(padding_mask)\n",
    "        mask = torch.tril(mask)\n",
    "\n",
    "        mask = mask * padding_mask\n",
    "     \n",
    "\n",
    "\n",
    "\n",
    "    return mask            "
   ]
  },
  {
   "cell_type": "code",
   "execution_count": 8,
   "metadata": {},
   "outputs": [],
   "source": [
    "class MultiHeadAttention(nn.Module):\n",
    "    def __init__(self, hidden) -> None:\n",
    "        super().__init__()\n",
    "        self.linear_q = nn.Linear()\n",
    "    \n",
    "    def forward(self, x, mask):\n",
    "        \n",
    "        pass"
   ]
  },
  {
   "cell_type": "code",
   "execution_count": 9,
   "metadata": {},
   "outputs": [
    {
     "data": {
      "text/plain": [
       "tensor([[ 0.0000,  1.0000,  0.0000,  1.0000,  0.0000,  1.0000,  0.0000],\n",
       "        [ 0.8415,  0.5403,  0.2651,  0.9642,  0.0719,  0.9974,  0.0193],\n",
       "        [ 0.9093, -0.4161,  0.5112,  0.8595,  0.1434,  0.9897,  0.0386],\n",
       "        [ 0.1411, -0.9900,  0.7207,  0.6932,  0.2142,  0.9768,  0.0579],\n",
       "        [-0.7568, -0.6536,  0.8787,  0.4774,  0.2839,  0.9588,  0.0772],\n",
       "        [-0.9589,  0.2837,  0.9738,  0.2274,  0.3521,  0.9360,  0.0964],\n",
       "        [-0.2794,  0.9602,  0.9992, -0.0388,  0.4185,  0.9082,  0.1156]])"
      ]
     },
     "execution_count": 9,
     "metadata": {},
     "output_type": "execute_result"
    }
   ],
   "source": [
    "class PositionalEmbedding(nn.Module):\n",
    "    def __init__(self, max_seq_len, d_model) -> None:\n",
    "        super().__init__()\n",
    "        pos = torch.arange(\n",
    "            0, max_seq_len, dtype=torch.float\n",
    "        ).unsqueeze(1)\n",
    "        indices = torch.arange(d_model, dtype=torch.float) // 2\n",
    "        self.positional_encoding = torch.where(\n",
    "            torch.arange(0, d_model) % 2 == 0,\n",
    "            torch.sin(pos / (10000 ** (indices / d_model))),\n",
    "            torch.cos(pos / (10000 ** (indices / d_model)))\n",
    "        )\n",
    "        self.positional_encoding.requires_grad = False\n",
    "\n",
    "    def forward(self, x):\n",
    "        seq_len = x.shape[1]\n",
    "        return self.positional_encoding[:seq_len, :]\n",
    "\n",
    "PositionalEmbedding(100, 7)(torch.arange(700).reshape((100, 7)))"
   ]
  },
  {
   "cell_type": "code",
   "execution_count": 10,
   "metadata": {},
   "outputs": [
    {
     "data": {
      "text/plain": [
       "tensor([[[-2.0795,  1.3508,  0.5941,  ..., -0.6936,  0.2948, -0.3487],\n",
       "         [ 0.0893, -1.0699,  0.1096,  ...,  0.1377, -1.3342,  0.9301],\n",
       "         [ 1.0097, -1.5905,  1.3774,  ...,  1.0004, -0.5331, -0.2621]],\n",
       "\n",
       "        [[-2.1686, -1.3438, -1.2352,  ..., -0.6638, -0.3742,  1.0105],\n",
       "         [-0.6628,  1.2588, -0.2769,  ...,  1.3390, -1.0327,  0.3651],\n",
       "         [-0.7371,  0.0410, -1.3979,  ..., -0.8101, -1.3596,  1.7677]]],\n",
       "       grad_fn=<NativeLayerNormBackward0>)"
      ]
     },
     "execution_count": 10,
     "metadata": {},
     "output_type": "execute_result"
    }
   ],
   "source": [
    "class Encoder(nn.Module):\n",
    "    def __init__(self, num_embeddings, embedding_dim, max_seq_len, num_head, inner_dim, num_enc_layers ,dropout_ratio=0.1) -> None:\n",
    "        super().__init__()\n",
    "        self.embedding = nn.Embedding(num_embeddings=num_embeddings, embedding_dim=embedding_dim)\n",
    "        self.pos_embedding = PositionalEmbedding(max_seq_len, embedding_dim)\n",
    "        self.dropout = nn.Dropout(dropout_ratio)\n",
    "\n",
    "        self.enc_layers = nn.ModuleList([EncoderLayer(embedding_dim, num_head, inner_dim) for _ in range(num_enc_layers)])\n",
    "        \n",
    "    \n",
    "    def forward(self, x):\n",
    "        mask = makeMask(x, option='padding')\n",
    "        x1 = self.embedding(x)\n",
    "        x2 = self.pos_embedding(x)\n",
    "        x = self.dropout(x1 + x2)\n",
    "\n",
    "        for layer in self.enc_layers:\n",
    "            x = layer(x, mask)\n",
    "        return x\n",
    "\n",
    "encoder = Encoder(15, 256, 100, 8, 512, 3)\n",
    "\n",
    "encoder(torch.arange(6, dtype=torch.int).reshape((2, 3)))"
   ]
  },
  {
   "cell_type": "code",
   "execution_count": 11,
   "metadata": {},
   "outputs": [],
   "source": [
    "class DecoderLayer(nn.Module):\n",
    "    def __init__(self, hidden_dim, num_head, inner_dim):\n",
    "        super().__init__()\n",
    "        self.hidden_dim = hidden_dim\n",
    "        self.inner_dim = inner_dim\n",
    "\n",
    "        self.multiheadattention1 = Multiheadattention(hidden_dim, num_head)\n",
    "        self.dropout1 = nn.Dropout(p=0.1)\n",
    "        self.layerNorm1 = nn.LayerNorm(hidden_dim)\n",
    "\n",
    "        self.multiheadattention2 = Multiheadattention(hidden_dim, num_head)\n",
    "        self.dropout2 = nn.Dropout(p=0.1)\n",
    "        self.layerNorm2 = nn.LayerNorm(hidden_dim)\n",
    "\n",
    "        self.ffn = FFN(hidden_dim, inner_dim)\n",
    "        self.dropout3 = nn.Dropout(p=0.1)\n",
    "        self.layerNorm3 = nn.LayerNorm(hidden_dim)\n",
    "\n",
    "    def forward(self, inputs, enc_output, padding_mask, look_ahead_mask):\n",
    "        inputs1 = inputs\n",
    "        inputs2 = self.multiheadattention1(inputs, inputs, inputs, look_ahead_mask)\n",
    "        inputs2 = self.dropout1(inputs2)\n",
    "        inputs = inputs1 + inputs2\n",
    "        inputs = self.layerNorm1(inputs)\n",
    "\n",
    "        inputs1 = inputs\n",
    "        inputs2 = self.multiheadattention2(inputs, enc_output, enc_output, padding_mask)\n",
    "        inputs2 = self.dropout2(inputs2)\n",
    "        inputs = inputs1 + inputs2\n",
    "\n",
    "        inputs1 = inputs\n",
    "        inputs2 = self.ffn(inputs)\n",
    "        inputs2 = self.dropout3(inputs)\n",
    "        inputs = inputs1 + inputs2\n",
    "        return inputs"
   ]
  },
  {
   "cell_type": "code",
   "execution_count": 12,
   "metadata": {},
   "outputs": [],
   "source": [
    "class Decoder(nn.Module):\n",
    "    def __init__(self, num_embeddings, embedding_dim, max_seq_len, num_head, inner_dim, num_dec_layers, dropout_ratio=0.1) -> None:\n",
    "        super().__init__()\n",
    "        self.embedding = nn.Embedding(num_embeddings=num_embeddings, embedding_dim=embedding_dim)\n",
    "        self.pos_embedding = PositionalEmbedding(max_seq_len, embedding_dim)\n",
    "        self.dropout = nn.Dropout(dropout_ratio)\n",
    "        self.dec_layers = nn.ModuleList([DecoderLayer(embedding_dim, num_head, inner_dim) for _ in range(num_dec_layers)])\n",
    "        \n",
    "    def forward(self, inputs, enc_output):\n",
    "        padding_mask = makeMask(inputs, option='padding')\n",
    "        look_ahead_mask = makeMask(inputs, option='lookahead')\n",
    "        inputs1 = self.embedding(inputs)\n",
    "        inputs2 = self.pos_embedding(inputs)\n",
    "        inputs = self.dropout(inputs1 + inputs2)\n",
    "\n",
    "        for layer in self.dec_layers:\n",
    "            inputs = layer(inputs, enc_output, padding_mask, look_ahead_mask)\n",
    "        return inputs"
   ]
  },
  {
   "cell_type": "code",
   "execution_count": 13,
   "metadata": {},
   "outputs": [],
   "source": [
    "class Transformer(nn.Module):\n",
    "    def __init__(self, seq_len, num_classes, N = 2, hidden_dim = 256, num_head = 8, inner_dim = 512, vocab_size=1000):\n",
    "        super().__init__()\n",
    "        self.encoder = Encoder(vocab_size, hidden_dim, seq_len, num_head, inner_dim, N)\n",
    "        self.decoder = Decoder(vocab_size, hidden_dim, seq_len, num_head, inner_dim, N)\n",
    "        self.flatten = nn.Flatten()\n",
    "        self.linear = nn.Linear(seq_len * hidden_dim, num_classes)\n",
    "        self.softmax = nn.Softmax(1)\n",
    "    \n",
    "    def forward(self, enc_src, dec_src):\n",
    "        enc_out = self.encoder(enc_src)\n",
    "        dec_out = self.decoder(dec_src, enc_out)\n",
    "        print(dec_out.shape)\n",
    "        out = self.flatten(dec_out)\n",
    "        out = self.linear(out)\n",
    "        out = self.softmax(out)\n",
    "        return out"
   ]
  },
  {
   "cell_type": "code",
   "execution_count": 14,
   "metadata": {},
   "outputs": [
    {
     "data": {
      "text/plain": [
       "Transformer(\n",
       "  (encoder): Encoder(\n",
       "    (embedding): Embedding(1000, 256)\n",
       "    (pos_embedding): PositionalEmbedding()\n",
       "    (dropout): Dropout(p=0.1, inplace=False)\n",
       "    (enc_layers): ModuleList(\n",
       "      (0-1): 2 x EncoderLayer(\n",
       "        (multiheadattention): Multiheadattention(\n",
       "          (fcQ): Linear(in_features=256, out_features=256, bias=True)\n",
       "          (fcK): Linear(in_features=256, out_features=256, bias=True)\n",
       "          (fcV): Linear(in_features=256, out_features=256, bias=True)\n",
       "          (fcOut): Linear(in_features=256, out_features=256, bias=True)\n",
       "        )\n",
       "        (dropout1): Dropout(p=0.1, inplace=False)\n",
       "        (layerNorm1): LayerNorm((256,), eps=1e-05, elementwise_affine=True)\n",
       "        (ffn): FFN(\n",
       "          (fc1): Linear(in_features=256, out_features=512, bias=True)\n",
       "          (fc2): Linear(in_features=512, out_features=256, bias=True)\n",
       "          (relu): ReLU()\n",
       "          (dropout): Dropout(p=0.1, inplace=False)\n",
       "        )\n",
       "        (dropout2): Dropout(p=0.1, inplace=False)\n",
       "        (layerNorm2): LayerNorm((256,), eps=1e-05, elementwise_affine=True)\n",
       "      )\n",
       "    )\n",
       "  )\n",
       "  (decoder): Decoder(\n",
       "    (embedding): Embedding(1000, 256)\n",
       "    (pos_embedding): PositionalEmbedding()\n",
       "    (dropout): Dropout(p=0.1, inplace=False)\n",
       "    (dec_layers): ModuleList(\n",
       "      (0-1): 2 x DecoderLayer(\n",
       "        (multiheadattention1): Multiheadattention(\n",
       "          (fcQ): Linear(in_features=256, out_features=256, bias=True)\n",
       "          (fcK): Linear(in_features=256, out_features=256, bias=True)\n",
       "          (fcV): Linear(in_features=256, out_features=256, bias=True)\n",
       "          (fcOut): Linear(in_features=256, out_features=256, bias=True)\n",
       "        )\n",
       "        (dropout1): Dropout(p=0.1, inplace=False)\n",
       "        (layerNorm1): LayerNorm((256,), eps=1e-05, elementwise_affine=True)\n",
       "        (multiheadattention2): Multiheadattention(\n",
       "          (fcQ): Linear(in_features=256, out_features=256, bias=True)\n",
       "          (fcK): Linear(in_features=256, out_features=256, bias=True)\n",
       "          (fcV): Linear(in_features=256, out_features=256, bias=True)\n",
       "          (fcOut): Linear(in_features=256, out_features=256, bias=True)\n",
       "        )\n",
       "        (dropout2): Dropout(p=0.1, inplace=False)\n",
       "        (layerNorm2): LayerNorm((256,), eps=1e-05, elementwise_affine=True)\n",
       "        (ffn): FFN(\n",
       "          (fc1): Linear(in_features=256, out_features=512, bias=True)\n",
       "          (fc2): Linear(in_features=512, out_features=256, bias=True)\n",
       "          (relu): ReLU()\n",
       "          (dropout): Dropout(p=0.1, inplace=False)\n",
       "        )\n",
       "        (dropout3): Dropout(p=0.1, inplace=False)\n",
       "        (layerNorm3): LayerNorm((256,), eps=1e-05, elementwise_affine=True)\n",
       "      )\n",
       "    )\n",
       "  )\n",
       "  (flatten): Flatten(start_dim=1, end_dim=-1)\n",
       "  (linear): Linear(in_features=768, out_features=10, bias=True)\n",
       "  (softmax): Softmax(dim=1)\n",
       ")"
      ]
     },
     "execution_count": 14,
     "metadata": {},
     "output_type": "execute_result"
    }
   ],
   "source": [
    "model = Transformer(3, 10).to(device)\n",
    "model"
   ]
  },
  {
   "cell_type": "code",
   "execution_count": 15,
   "metadata": {},
   "outputs": [
    {
     "name": "stdout",
     "output_type": "stream",
     "text": [
      "torch.Size([4, 3, 256])\n"
     ]
    },
    {
     "data": {
      "text/plain": [
       "tensor([[0.0191, 0.4483, 0.0056, 0.1059, 0.0913, 0.0453, 0.0905, 0.0868, 0.0370,\n",
       "         0.0702],\n",
       "        [0.2952, 0.1161, 0.0075, 0.0164, 0.0190, 0.0440, 0.2896, 0.0178, 0.0684,\n",
       "         0.1259],\n",
       "        [0.1416, 0.0931, 0.0167, 0.0069, 0.1751, 0.2000, 0.0620, 0.0477, 0.1580,\n",
       "         0.0989],\n",
       "        [0.1691, 0.1336, 0.0591, 0.0090, 0.1170, 0.0117, 0.1804, 0.0595, 0.0523,\n",
       "         0.2084]], grad_fn=<SoftmaxBackward0>)"
      ]
     },
     "execution_count": 15,
     "metadata": {},
     "output_type": "execute_result"
    }
   ],
   "source": [
    "model(torch.arange(12, dtype=torch.int).reshape((4, 3)), torch.arange(12, dtype=torch.int).reshape((4, 3)))"
   ]
  },
  {
   "cell_type": "code",
   "execution_count": null,
   "metadata": {},
   "outputs": [],
   "source": []
  }
 ],
 "metadata": {
  "kernelspec": {
   "display_name": "torch",
   "language": "python",
   "name": "python3"
  },
  "language_info": {
   "codemirror_mode": {
    "name": "ipython",
    "version": 3
   },
   "file_extension": ".py",
   "mimetype": "text/x-python",
   "name": "python",
   "nbconvert_exporter": "python",
   "pygments_lexer": "ipython3",
   "version": "3.10.10"
  },
  "orig_nbformat": 4
 },
 "nbformat": 4,
 "nbformat_minor": 2
}
