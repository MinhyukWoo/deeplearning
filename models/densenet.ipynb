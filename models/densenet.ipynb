{
 "cells": [
  {
   "cell_type": "code",
   "execution_count": 1,
   "metadata": {},
   "outputs": [
    {
     "name": "stderr",
     "output_type": "stream",
     "text": [
      "/home/minhyuk/miniconda3/envs/torch/lib/python3.9/site-packages/tqdm/auto.py:22: TqdmWarning: IProgress not found. Please update jupyter and ipywidgets. See https://ipywidgets.readthedocs.io/en/stable/user_install.html\n",
      "  from .autonotebook import tqdm as notebook_tqdm\n"
     ]
    },
    {
     "data": {
      "text/plain": [
       "'1.13.1+cu117'"
      ]
     },
     "execution_count": 1,
     "metadata": {},
     "output_type": "execute_result"
    }
   ],
   "source": [
    "import torch\n",
    "\n",
    "torch.__version__"
   ]
  },
  {
   "cell_type": "code",
   "execution_count": 1,
   "metadata": {},
   "outputs": [
    {
     "name": "stderr",
     "output_type": "stream",
     "text": [
      "/home/minhyuk/miniconda3/envs/torch/lib/python3.9/site-packages/tqdm/auto.py:22: TqdmWarning: IProgress not found. Please update jupyter and ipywidgets. See https://ipywidgets.readthedocs.io/en/stable/user_install.html\n",
      "  from .autonotebook import tqdm as notebook_tqdm\n",
      "/home/minhyuk/miniconda3/envs/torch/lib/python3.9/site-packages/torchvision/io/image.py:13: UserWarning: Failed to load image Python extension: /home/minhyuk/miniconda3/envs/torch/lib/python3.9/site-packages/torchvision/image.so: undefined symbol: _ZN2at4_ops19empty_memory_format4callEN3c108ArrayRefIlEENS2_8optionalINS2_10ScalarTypeEEENS5_INS2_6LayoutEEENS5_INS2_6DeviceEEENS5_IbEENS5_INS2_12MemoryFormatEEE\n",
      "  warn(f\"Failed to load image Python extension: {e}\")\n"
     ]
    },
    {
     "name": "stdout",
     "output_type": "stream",
     "text": [
      "Dataset FashionMNIST\n",
      "    Number of datapoints: 60000\n",
      "    Root location: res\n",
      "    Split: Train\n",
      "    StandardTransform\n",
      "Transform: ToTensor()\n"
     ]
    }
   ],
   "source": [
    "from torchvision.datasets import FashionMNIST\n",
    "import torch\n",
    "from torchvision.transforms import ToTensor\n",
    "\n",
    "training_dataset = FashionMNIST(\n",
    "    root=\"res\", train=True, transform=ToTensor(), download=True\n",
    ")\n",
    "test_dataset = FashionMNIST(\n",
    "    root=\"res\", train=False, transform=ToTensor(), download=True\n",
    ")\n",
    "print(training_dataset)"
   ]
  },
  {
   "cell_type": "code",
   "execution_count": 3,
   "metadata": {},
   "outputs": [
    {
     "data": {
      "text/plain": [
       "Bottleneck(\n",
       "  (block): Sequential(\n",
       "    (0): BatchNorm2d(128, eps=1e-05, momentum=0.1, affine=True, track_running_stats=True)\n",
       "    (1): ReLU(inplace=True)\n",
       "    (2): Conv2d(128, 512, kernel_size=(1, 1), stride=(1, 1), bias=False)\n",
       "    (3): BatchNorm2d(512, eps=1e-05, momentum=0.1, affine=True, track_running_stats=True)\n",
       "    (4): ReLU(inplace=True)\n",
       "    (5): Conv2d(512, 128, kernel_size=(1, 1), stride=(1, 1), bias=False)\n",
       "  )\n",
       "  (skip): Sequential(\n",
       "    (0): Identity()\n",
       "  )\n",
       ")"
      ]
     },
     "execution_count": 3,
     "metadata": {},
     "output_type": "execute_result"
    }
   ],
   "source": [
    "from torch import nn\n",
    "class Bottleneck(nn.Module):\n",
    "    def __init__(self, in_channels, k) -> None:\n",
    "        super().__init__()\n",
    "        self.block = nn.Sequential(\n",
    "            nn.BatchNorm2d(in_channels),\n",
    "            nn.ReLU(inplace=True),\n",
    "            nn.Conv2d(in_channels, k * 4, (1, 1), bias=False),\n",
    "            nn.BatchNorm2d(k * 4),\n",
    "            nn.ReLU(inplace=True),\n",
    "            nn.Conv2d(k * 4, k, (1, 1), bias=False),\n",
    "        )\n",
    "        self.skip = nn.Sequential(\n",
    "            nn.Identity()\n",
    "        )\n",
    "    \n",
    "    def forward(self, x):\n",
    "        x1 = self.block(x)\n",
    "        x2 = self.skip(x)\n",
    "        out = torch.concat((x1, x2))\n",
    "        return out\n",
    "\n",
    "Bottleneck(128, 128)"
   ]
  },
  {
   "cell_type": "code",
   "execution_count": 4,
   "metadata": {},
   "outputs": [
    {
     "data": {
      "text/plain": [
       "TransitionLayer(\n",
       "  (block): Sequential(\n",
       "    (0): BatchNorm2d(128, eps=1e-05, momentum=0.1, affine=True, track_running_stats=True)\n",
       "    (1): Conv2d(128, 128, kernel_size=(1, 1), stride=(1, 1), bias=False)\n",
       "    (2): AvgPool2d(kernel_size=(2, 2), stride=(2, 2), padding=0)\n",
       "  )\n",
       ")"
      ]
     },
     "execution_count": 4,
     "metadata": {},
     "output_type": "execute_result"
    }
   ],
   "source": [
    "class TransitionLayer(nn.Module):\n",
    "    def __init__(self, in_channels) -> None:\n",
    "        super().__init__()\n",
    "        self.block = nn.Sequential(\n",
    "            nn.BatchNorm2d(in_channels),\n",
    "            nn.Conv2d(in_channels, in_channels, (1, 1), bias=False),\n",
    "            nn.AvgPool2d((2, 2), (2, 2))\n",
    "        )\n",
    "    def forward(self, x):\n",
    "        out = self.block(x)\n",
    "        return out\n",
    "    \n",
    "TransitionLayer(128)"
   ]
  },
  {
   "cell_type": "code",
   "execution_count": 5,
   "metadata": {},
   "outputs": [
    {
     "data": {
      "text/plain": [
       "MultipleDenseLayer(\n",
       "  (block): Sequential(\n",
       "    (0): Bottleneck(\n",
       "      (block): Sequential(\n",
       "        (0): BatchNorm2d(32, eps=1e-05, momentum=0.1, affine=True, track_running_stats=True)\n",
       "        (1): ReLU(inplace=True)\n",
       "        (2): Conv2d(32, 16, kernel_size=(1, 1), stride=(1, 1), bias=False)\n",
       "        (3): BatchNorm2d(16, eps=1e-05, momentum=0.1, affine=True, track_running_stats=True)\n",
       "        (4): ReLU(inplace=True)\n",
       "        (5): Conv2d(16, 4, kernel_size=(1, 1), stride=(1, 1), bias=False)\n",
       "      )\n",
       "      (skip): Sequential(\n",
       "        (0): Identity()\n",
       "      )\n",
       "    )\n",
       "    (1): Bottleneck(\n",
       "      (block): Sequential(\n",
       "        (0): BatchNorm2d(36, eps=1e-05, momentum=0.1, affine=True, track_running_stats=True)\n",
       "        (1): ReLU(inplace=True)\n",
       "        (2): Conv2d(36, 16, kernel_size=(1, 1), stride=(1, 1), bias=False)\n",
       "        (3): BatchNorm2d(16, eps=1e-05, momentum=0.1, affine=True, track_running_stats=True)\n",
       "        (4): ReLU(inplace=True)\n",
       "        (5): Conv2d(16, 4, kernel_size=(1, 1), stride=(1, 1), bias=False)\n",
       "      )\n",
       "      (skip): Sequential(\n",
       "        (0): Identity()\n",
       "      )\n",
       "    )\n",
       "    (2): Bottleneck(\n",
       "      (block): Sequential(\n",
       "        (0): BatchNorm2d(40, eps=1e-05, momentum=0.1, affine=True, track_running_stats=True)\n",
       "        (1): ReLU(inplace=True)\n",
       "        (2): Conv2d(40, 16, kernel_size=(1, 1), stride=(1, 1), bias=False)\n",
       "        (3): BatchNorm2d(16, eps=1e-05, momentum=0.1, affine=True, track_running_stats=True)\n",
       "        (4): ReLU(inplace=True)\n",
       "        (5): Conv2d(16, 4, kernel_size=(1, 1), stride=(1, 1), bias=False)\n",
       "      )\n",
       "      (skip): Sequential(\n",
       "        (0): Identity()\n",
       "      )\n",
       "    )\n",
       "  )\n",
       ")"
      ]
     },
     "execution_count": 5,
     "metadata": {},
     "output_type": "execute_result"
    }
   ],
   "source": [
    "class MultipleDenseLayer(nn.Module):\n",
    "    def __init__(self, in_channels, k, num_of_denses) -> None:\n",
    "        super().__init__()\n",
    "        layers = []\n",
    "        for _ in range(num_of_denses):\n",
    "            layers.append(Bottleneck(in_channels, k))\n",
    "            in_channels += k\n",
    "        self.block = nn.Sequential(\n",
    "            *layers\n",
    "        )\n",
    "    \n",
    "    def forward(self, x):\n",
    "        out = self.block(x)\n",
    "        return out\n",
    "    \n",
    "MultipleDenseLayer(32, 4, 3)"
   ]
  },
  {
   "cell_type": "code",
   "execution_count": 6,
   "metadata": {},
   "outputs": [
    {
     "data": {
      "text/plain": [
       "DenseNet(\n",
       "  (feature_extract): Sequential(\n",
       "    (0): MultipleDenseLayer(\n",
       "      (block): Sequential(\n",
       "        (0): Bottleneck(\n",
       "          (block): Sequential(\n",
       "            (0): BatchNorm2d(32, eps=1e-05, momentum=0.1, affine=True, track_running_stats=True)\n",
       "            (1): ReLU(inplace=True)\n",
       "            (2): Conv2d(32, 16, kernel_size=(1, 1), stride=(1, 1), bias=False)\n",
       "            (3): BatchNorm2d(16, eps=1e-05, momentum=0.1, affine=True, track_running_stats=True)\n",
       "            (4): ReLU(inplace=True)\n",
       "            (5): Conv2d(16, 4, kernel_size=(1, 1), stride=(1, 1), bias=False)\n",
       "          )\n",
       "          (skip): Sequential(\n",
       "            (0): Identity()\n",
       "          )\n",
       "        )\n",
       "        (1): Bottleneck(\n",
       "          (block): Sequential(\n",
       "            (0): BatchNorm2d(36, eps=1e-05, momentum=0.1, affine=True, track_running_stats=True)\n",
       "            (1): ReLU(inplace=True)\n",
       "            (2): Conv2d(36, 16, kernel_size=(1, 1), stride=(1, 1), bias=False)\n",
       "            (3): BatchNorm2d(16, eps=1e-05, momentum=0.1, affine=True, track_running_stats=True)\n",
       "            (4): ReLU(inplace=True)\n",
       "            (5): Conv2d(16, 4, kernel_size=(1, 1), stride=(1, 1), bias=False)\n",
       "          )\n",
       "          (skip): Sequential(\n",
       "            (0): Identity()\n",
       "          )\n",
       "        )\n",
       "      )\n",
       "    )\n",
       "    (1): TransitionLayer(\n",
       "      (block): Sequential(\n",
       "        (0): BatchNorm2d(40, eps=1e-05, momentum=0.1, affine=True, track_running_stats=True)\n",
       "        (1): Conv2d(40, 40, kernel_size=(1, 1), stride=(1, 1), bias=False)\n",
       "        (2): AvgPool2d(kernel_size=(2, 2), stride=(2, 2), padding=0)\n",
       "      )\n",
       "    )\n",
       "    (2): MultipleDenseLayer(\n",
       "      (block): Sequential(\n",
       "        (0): Bottleneck(\n",
       "          (block): Sequential(\n",
       "            (0): BatchNorm2d(40, eps=1e-05, momentum=0.1, affine=True, track_running_stats=True)\n",
       "            (1): ReLU(inplace=True)\n",
       "            (2): Conv2d(40, 16, kernel_size=(1, 1), stride=(1, 1), bias=False)\n",
       "            (3): BatchNorm2d(16, eps=1e-05, momentum=0.1, affine=True, track_running_stats=True)\n",
       "            (4): ReLU(inplace=True)\n",
       "            (5): Conv2d(16, 4, kernel_size=(1, 1), stride=(1, 1), bias=False)\n",
       "          )\n",
       "          (skip): Sequential(\n",
       "            (0): Identity()\n",
       "          )\n",
       "        )\n",
       "        (1): Bottleneck(\n",
       "          (block): Sequential(\n",
       "            (0): BatchNorm2d(44, eps=1e-05, momentum=0.1, affine=True, track_running_stats=True)\n",
       "            (1): ReLU(inplace=True)\n",
       "            (2): Conv2d(44, 16, kernel_size=(1, 1), stride=(1, 1), bias=False)\n",
       "            (3): BatchNorm2d(16, eps=1e-05, momentum=0.1, affine=True, track_running_stats=True)\n",
       "            (4): ReLU(inplace=True)\n",
       "            (5): Conv2d(16, 4, kernel_size=(1, 1), stride=(1, 1), bias=False)\n",
       "          )\n",
       "          (skip): Sequential(\n",
       "            (0): Identity()\n",
       "          )\n",
       "        )\n",
       "        (2): Bottleneck(\n",
       "          (block): Sequential(\n",
       "            (0): BatchNorm2d(48, eps=1e-05, momentum=0.1, affine=True, track_running_stats=True)\n",
       "            (1): ReLU(inplace=True)\n",
       "            (2): Conv2d(48, 16, kernel_size=(1, 1), stride=(1, 1), bias=False)\n",
       "            (3): BatchNorm2d(16, eps=1e-05, momentum=0.1, affine=True, track_running_stats=True)\n",
       "            (4): ReLU(inplace=True)\n",
       "            (5): Conv2d(16, 4, kernel_size=(1, 1), stride=(1, 1), bias=False)\n",
       "          )\n",
       "          (skip): Sequential(\n",
       "            (0): Identity()\n",
       "          )\n",
       "        )\n",
       "      )\n",
       "    )\n",
       "    (3): Sequential(\n",
       "      (0): BatchNorm2d(52, eps=1e-05, momentum=0.1, affine=True, track_running_stats=True)\n",
       "      (1): ReLU(inplace=True)\n",
       "      (2): AdaptiveAvgPool2d(output_size=(7, 7))\n",
       "    )\n",
       "  )\n",
       "  (classify): Sequential(\n",
       "    (0): Flatten(start_dim=1, end_dim=-1)\n",
       "    (1): Linear(in_features=49, out_features=2048, bias=True)\n",
       "    (2): Linear(in_features=2048, out_features=10, bias=True)\n",
       "  )\n",
       ")"
      ]
     },
     "execution_count": 6,
     "metadata": {},
     "output_type": "execute_result"
    }
   ],
   "source": [
    "class DenseNet(nn.Module):\n",
    "    def __init__(self, in_channels, k, dense_blocks, num_of_classes) -> None:\n",
    "        super().__init__()\n",
    "        layers = []\n",
    "        for i, n in enumerate(dense_blocks):\n",
    "            layers.append(MultipleDenseLayer(in_channels, k, n))\n",
    "            in_channels += k * n\n",
    "            if i < len(dense_blocks) - 1:\n",
    "                layers.append(TransitionLayer(in_channels))\n",
    "        layers.append(\n",
    "            nn.Sequential(\n",
    "                nn.BatchNorm2d(in_channels),\n",
    "                nn.ReLU(inplace=True),\n",
    "                nn.AdaptiveAvgPool2d((7, 7)),\n",
    "            )\n",
    "        )\n",
    "        self.feature_extract = nn.Sequential(*layers)\n",
    "        self.classify = nn.Sequential(\n",
    "            nn.Flatten(),\n",
    "            nn.Linear(7 * 7, 2048),\n",
    "            nn.Linear(2048, num_of_classes)\n",
    "        )\n",
    "    \n",
    "    def forward(self, x):\n",
    "        x = self.feature_extract(x)\n",
    "        out = self.classify(x)\n",
    "        return out\n",
    "\n",
    "DenseNet(32, 4, [2, 3], 10)\n"
   ]
  },
  {
   "cell_type": "code",
   "execution_count": null,
   "metadata": {},
   "outputs": [],
   "source": []
  }
 ],
 "metadata": {
  "kernelspec": {
   "display_name": "torch",
   "language": "python",
   "name": "python3"
  },
  "language_info": {
   "codemirror_mode": {
    "name": "ipython",
    "version": 3
   },
   "file_extension": ".py",
   "mimetype": "text/x-python",
   "name": "python",
   "nbconvert_exporter": "python",
   "pygments_lexer": "ipython3",
   "version": "3.9.13"
  },
  "orig_nbformat": 4
 },
 "nbformat": 4,
 "nbformat_minor": 2
}
